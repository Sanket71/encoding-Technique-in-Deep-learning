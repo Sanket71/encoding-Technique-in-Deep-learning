{
  "nbformat": 4,
  "nbformat_minor": 0,
  "metadata": {
    "colab": {
      "provenance": [],
      "authorship_tag": "ABX9TyPn3DOSoSoq9qPLi1wnBCV8",
      "include_colab_link": true
    },
    "kernelspec": {
      "name": "python3",
      "display_name": "Python 3"
    },
    "language_info": {
      "name": "python"
    }
  },
  "cells": [
    {
      "cell_type": "markdown",
      "metadata": {
        "id": "view-in-github",
        "colab_type": "text"
      },
      "source": [
        "<a href=\"https://colab.research.google.com/github/Sanket71/encoding-Technique-in-Deep-learning/blob/main/integer_encoding_example.ipynb\" target=\"_parent\"><img src=\"https://colab.research.google.com/assets/colab-badge.svg\" alt=\"Open In Colab\"/></a>"
      ]
    },
    {
      "cell_type": "code",
      "execution_count": null,
      "metadata": {
        "id": "WngkN7WoSmvC"
      },
      "outputs": [],
      "source": [
        "docs=[\n",
        "    \"cat eats food \",\n",
        "    \"dog eats food\",\n",
        "    \"cat drinks 2 glass water\",\n",
        "    \"dog drinks water\",\n",
        "    \"bird sings song\",\n",
        "    \"cat chases dog\",\n",
        "    \"dog chases cat\",\n",
        "    \"cat sleeps peacefully\",\n",
        "    \"dog sleeps peacefully\",\n",
        "    \"bird flies high\"\n",
        "]"
      ]
    },
    {
      "cell_type": "code",
      "source": [
        "from tensorflow.keras.preprocessing.text import Tokenizer\n",
        "tokenizer=Tokenizer(oov_token='<nothing>')  # oov_token means while testing data if something new word comes that out of our vocab it will replace by this word\n"
      ],
      "metadata": {
        "id": "K6Q3RH_eTeI7"
      },
      "execution_count": null,
      "outputs": []
    },
    {
      "cell_type": "code",
      "source": [
        "tokenizer.fit_on_texts(docs)"
      ],
      "metadata": {
        "id": "x32NdQIBT1FU"
      },
      "execution_count": null,
      "outputs": []
    },
    {
      "cell_type": "code",
      "source": [
        "tokenizer.word_index"
      ],
      "metadata": {
        "colab": {
          "base_uri": "https://localhost:8080/"
        },
        "id": "z0HCaYasUW1D",
        "outputId": "c92fa0c0-4bed-4491-aafd-d97a9584a7ff"
      },
      "execution_count": null,
      "outputs": [
        {
          "output_type": "execute_result",
          "data": {
            "text/plain": [
              "{'<nothing>': 1,\n",
              " 'cat': 2,\n",
              " 'dog': 3,\n",
              " 'eats': 4,\n",
              " 'food': 5,\n",
              " 'drinks': 6,\n",
              " 'water': 7,\n",
              " 'bird': 8,\n",
              " 'chases': 9,\n",
              " 'sleeps': 10,\n",
              " 'peacefully': 11,\n",
              " '2': 12,\n",
              " 'glass': 13,\n",
              " 'sings': 14,\n",
              " 'song': 15,\n",
              " 'flies': 16,\n",
              " 'high': 17}"
            ]
          },
          "metadata": {},
          "execution_count": 17
        }
      ]
    },
    {
      "cell_type": "code",
      "source": [
        "tokenizer.word_counts"
      ],
      "metadata": {
        "colab": {
          "base_uri": "https://localhost:8080/"
        },
        "id": "YLt321g_Uc20",
        "outputId": "d59d4422-46e9-46e3-faf1-9fcf3d3248de"
      },
      "execution_count": null,
      "outputs": [
        {
          "output_type": "execute_result",
          "data": {
            "text/plain": [
              "OrderedDict([('cat', 5),\n",
              "             ('eats', 2),\n",
              "             ('food', 2),\n",
              "             ('dog', 5),\n",
              "             ('drinks', 2),\n",
              "             ('2', 1),\n",
              "             ('glass', 1),\n",
              "             ('water', 2),\n",
              "             ('bird', 2),\n",
              "             ('sings', 1),\n",
              "             ('song', 1),\n",
              "             ('chases', 2),\n",
              "             ('sleeps', 2),\n",
              "             ('peacefully', 2),\n",
              "             ('flies', 1),\n",
              "             ('high', 1)])"
            ]
          },
          "metadata": {},
          "execution_count": 18
        }
      ]
    },
    {
      "cell_type": "code",
      "source": [
        "tokenizer.document_count"
      ],
      "metadata": {
        "colab": {
          "base_uri": "https://localhost:8080/"
        },
        "id": "85VtABSTUfsD",
        "outputId": "d4fd9a41-891d-4d5f-940b-ab44ad669238"
      },
      "execution_count": null,
      "outputs": [
        {
          "output_type": "execute_result",
          "data": {
            "text/plain": [
              "10"
            ]
          },
          "metadata": {},
          "execution_count": 19
        }
      ]
    },
    {
      "cell_type": "code",
      "source": [
        "sequences=tokenizer.texts_to_sequences(docs)\n",
        "sequences"
      ],
      "metadata": {
        "colab": {
          "base_uri": "https://localhost:8080/"
        },
        "id": "sBBzza7YUkfE",
        "outputId": "ecb8e198-8366-4db6-e26d-e228aeae4bcd"
      },
      "execution_count": null,
      "outputs": [
        {
          "output_type": "execute_result",
          "data": {
            "text/plain": [
              "[[2, 4, 5],\n",
              " [3, 4, 5],\n",
              " [2, 6, 12, 13, 7],\n",
              " [3, 6, 7],\n",
              " [8, 14, 15],\n",
              " [2, 9, 3],\n",
              " [3, 9, 2],\n",
              " [2, 10, 11],\n",
              " [3, 10, 11],\n",
              " [8, 16, 17]]"
            ]
          },
          "metadata": {},
          "execution_count": 20
        }
      ]
    },
    {
      "cell_type": "code",
      "source": [
        "from keras.utils import pad_sequences\n",
        "sequences=pad_sequences(sequences,padding='post')"
      ],
      "metadata": {
        "id": "hST4L_xBUrsS"
      },
      "execution_count": null,
      "outputs": []
    },
    {
      "cell_type": "code",
      "source": [
        "sequences"
      ],
      "metadata": {
        "colab": {
          "base_uri": "https://localhost:8080/"
        },
        "id": "8fq0QnWtU-II",
        "outputId": "3c757607-5720-4161-cd7d-09c8e2eb7f0c"
      },
      "execution_count": null,
      "outputs": [
        {
          "output_type": "execute_result",
          "data": {
            "text/plain": [
              "array([[ 2,  4,  5,  0,  0],\n",
              "       [ 3,  4,  5,  0,  0],\n",
              "       [ 2,  6, 12, 13,  7],\n",
              "       [ 3,  6,  7,  0,  0],\n",
              "       [ 8, 14, 15,  0,  0],\n",
              "       [ 2,  9,  3,  0,  0],\n",
              "       [ 3,  9,  2,  0,  0],\n",
              "       [ 2, 10, 11,  0,  0],\n",
              "       [ 3, 10, 11,  0,  0],\n",
              "       [ 8, 16, 17,  0,  0]], dtype=int32)"
            ]
          },
          "metadata": {},
          "execution_count": 22
        }
      ]
    }
  ]
}